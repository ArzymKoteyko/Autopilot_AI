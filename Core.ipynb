{
 "cells": [
  {
   "cell_type": "code",
   "execution_count": 9,
   "metadata": {},
   "outputs": [],
   "source": [
    "import numpy as np\n",
    "import pandas as pd\n",
    "import matplotlib.pyplot as plt\n",
    "import seaborn as sns\n",
    "from tqdm import trange\n",
    "import yfinance as yf "
   ]
  },
  {
   "cell_type": "code",
   "execution_count": 47,
   "metadata": {},
   "outputs": [],
   "source": [
    "AAPL = yf.Ticker('AAPL')\n",
    "DJI = yf.Ticker('DJI')\n",
    "RUB = yf.Ticker('USDRUB=X')\n",
    "OIL = yf.Ticker('CL=F')"
   ]
  },
  {
   "cell_type": "code",
   "execution_count": null,
   "metadata": {},
   "outputs": [],
   "source": [
    "plt.figure(figsize = (40,40))\n",
    "plt.subplot(4,1,1)\n",
    "plt.plot(AAPL.history(period='max')['Close'])\n",
    "plt.subplot(4,1,2)\n",
    "plt.plot(DJI.history(period='max')['Close'])\n",
    "plt.subplot(4,1,3)\n",
    "plt.plot(RUB.history(period='max')['Close'])"
   ]
  },
  {
   "cell_type": "code",
   "execution_count": 24,
   "metadata": {},
   "outputs": [
    {
     "data": {
      "text/plain": [
       "Date\n",
       "1980-12-12      0.41\n",
       "1980-12-15      0.39\n",
       "1980-12-16      0.36\n",
       "1980-12-17      0.37\n",
       "1980-12-18      0.38\n",
       "               ...  \n",
       "2020-03-16    242.21\n",
       "2020-03-17    252.86\n",
       "2020-03-18    246.67\n",
       "2020-03-19    244.78\n",
       "2020-03-20    229.24\n",
       "Name: Close, Length: 9901, dtype: float64"
      ]
     },
     "execution_count": 24,
     "metadata": {},
     "output_type": "execute_result"
    }
   ],
   "source": [
    "AAPL.history(period='max')['Close']"
   ]
  },
  {
   "cell_type": "code",
   "execution_count": null,
   "metadata": {},
   "outputs": [],
   "source": []
  }
 ],
 "metadata": {
  "kernelspec": {
   "display_name": "Python 3",
   "language": "python",
   "name": "python3"
  },
  "language_info": {
   "codemirror_mode": {
    "name": "ipython",
    "version": 3
   },
   "file_extension": ".py",
   "mimetype": "text/x-python",
   "name": "python",
   "nbconvert_exporter": "python",
   "pygments_lexer": "ipython3",
   "version": "3.7.7"
  }
 },
 "nbformat": 4,
 "nbformat_minor": 4
}
